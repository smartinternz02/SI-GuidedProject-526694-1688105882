{
  "nbformat": 4,
  "nbformat_minor": 0,
  "metadata": {
    "colab": {
      "provenance": []
    },
    "kernelspec": {
      "name": "python3",
      "display_name": "Python 3"
    },
    "language_info": {
      "name": "python"
    }
  },
  "cells": [
    {
      "cell_type": "code",
      "execution_count": null,
      "metadata": {
        "colab": {
          "base_uri": "https://localhost:8080/"
        },
        "id": "4jQjLmAPbsZq",
        "outputId": "14f13b66-599a-4faf-ea7e-562d1f9f818e"
      },
      "outputs": [
        {
          "output_type": "stream",
          "name": "stdout",
          "text": [
            "   Random value 1  Random value 2  Random value 3  Random value 4\n",
            "0       -1.085631        0.997345        0.282978       -1.506295\n",
            "1       -0.578600        1.651437       -2.426679       -0.428913\n",
            "2        1.265936       -0.866740       -0.678886       -0.094709\n",
            "3        1.491390       -0.638902       -0.443982       -0.434351\n",
            "\n",
            "Descriptive Statistics:\n",
            "       Random value 1  Random value 2  Random value 3  Random value 4\n",
            "count        4.000000        4.000000        4.000000        4.000000\n",
            "mean         0.273274        0.285785       -0.816642       -0.616067\n",
            "std          1.296340        1.232164        1.148802        0.614374\n",
            "min         -1.085631       -0.866740       -2.426679       -1.506295\n",
            "25%         -0.705358       -0.695862       -1.115834       -0.702337\n",
            "50%          0.343668        0.179222       -0.561434       -0.431632\n",
            "75%          1.322300        1.160868       -0.262242       -0.345362\n",
            "max          1.491390        1.651437        0.282978       -0.094709\n",
            "\n",
            "Null Values:\n",
            "Random value 1    0\n",
            "Random value 2    0\n",
            "Random value 3    0\n",
            "Random value 4    0\n",
            "dtype: int64\n",
            "\n",
            "Data Types:\n",
            "Random value 1    float64\n",
            "Random value 2    float64\n",
            "Random value 3    float64\n",
            "Random value 4    float64\n",
            "dtype: object\n",
            "\n",
            "Random value 2 (using loc):\n",
            "0    0.997345\n",
            "1    1.651437\n",
            "2   -0.866740\n",
            "3   -0.638902\n",
            "Name: Random value 2, dtype: float64\n",
            "\n",
            "Random value 3 (using loc):\n",
            "0    0.282978\n",
            "1   -2.426679\n",
            "2   -0.678886\n",
            "3   -0.443982\n",
            "Name: Random value 3, dtype: float64\n",
            "\n",
            "Random value 2 (using index location):\n",
            "0    0.997345\n",
            "1    1.651437\n",
            "2   -0.866740\n",
            "3   -0.638902\n",
            "Name: Random value 2, dtype: float64\n",
            "\n",
            "Random value 3 (using index location):\n",
            "0    0.282978\n",
            "1   -2.426679\n",
            "2   -0.678886\n",
            "3   -0.443982\n",
            "Name: Random value 3, dtype: float64\n"
          ]
        }
      ],
      "source": [
        "import pandas as pd\n",
        "import numpy as np\n",
        "\n",
        "# Task 1: Create a pandas dataframe with random values\n",
        "np.random.seed(123)  # Set seed for reproducibility\n",
        "data = np.random.randn(4, 4)  # Generate random values\n",
        "df = pd.DataFrame(data)\n",
        "\n",
        "# Task 2: Rename column names\n",
        "df.columns = ['Random value 1', 'Random value 2', 'Random value 3', 'Random value 4']\n",
        "\n",
        "# Task 3: Descriptive statistics\n",
        "statistics = df.describe()\n",
        "\n",
        "# Task 4: Check for null values and data types\n",
        "null_values = df.isnull().sum()\n",
        "data_types = df.dtypes\n",
        "\n",
        "# Task 5: Display 'Random value 2' and 'Random value 3' columns\n",
        "random_value_2_loc = df.loc[:, 'Random value 2']\n",
        "random_value_3_loc = df.loc[:, 'Random value 3']\n",
        "\n",
        "random_value_2_idx = df.iloc[:, 1]\n",
        "random_value_3_idx = df.iloc[:, 2]\n",
        "\n",
        "print(df)\n",
        "print(\"\\nDescriptive Statistics:\")\n",
        "print(statistics)\n",
        "print(\"\\nNull Values:\")\n",
        "print(null_values)\n",
        "print(\"\\nData Types:\")\n",
        "print(data_types)\n",
        "print(\"\\nRandom value 2 (using loc):\")\n",
        "print(random_value_2_loc)\n",
        "print(\"\\nRandom value 3 (using loc):\")\n",
        "print(random_value_3_loc)\n",
        "print(\"\\nRandom value 2 (using index location):\")\n",
        "print(random_value_2_idx)\n",
        "print(\"\\nRandom value 3 (using index location):\")\n",
        "print(random_value_3_idx)\n"
      ]
    }
  ]
}